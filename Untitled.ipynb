{
 "cells": [
  {
   "cell_type": "markdown",
   "metadata": {},
   "source": [
    "# Distributed Runner\n",
    "\n",
    "## Needed Operations (aka API)\n",
    "\n",
    "1. Exists (hash)\n",
    "1. Save File (src)\n",
    "2. Copy File (hash, dst)\n",
    "3. Save Tree (list_files)\n",
    "4. Restore Tree (hash, dst)\n",
    "\n"
   ]
  },
  {
   "cell_type": "code",
   "execution_count": 38,
   "metadata": {},
   "outputs": [],
   "source": [
    "from collections import namedtuple\n",
    "from contextlib import contextmanager\n",
    "from itertools import chain\n",
    "import io\n",
    "import os\n",
    "import hashlib\n",
    "import zlib\n",
    "\n",
    "def read_streams_chunked(file_objects, block_size=4096):\n",
    "    readers = (iter(lambda f=f: f.read(block_size), '') for f in file_objects)\n",
    "    return chain.from_iterable(readers)\n",
    "\n",
    "def obj_header(objtype, length):\n",
    "    return (objtype + '\\x20' + str(length) + '\\x00').encode()\n",
    "\n",
    "def write_compressed(fout, zlibobj, stream, block_size=4096, flush=True):\n",
    "    while True:\n",
    "        chunk = stream.read(block_size)\n",
    "        if not chunk:\n",
    "            break\n",
    "        compressed_bytes = zlib_obj.compress(chunk)\n",
    "        if compressed_bytes:\n",
    "            fout.write(compressed_bytes)\n",
    "    \n",
    "    if flush:\n",
    "        compressed_bytes = zlib_obj.flush()\n",
    "        if compressed_bytes:\n",
    "            fout.write(compressed_bytes)\n",
    "            \n",
    "def write_obj(store_path, sha, hstream, dstream):\n",
    "    path = os.path.join(store_path, obj.hash[:2], obj.hash[2:])\n",
    "    zlib_obj = zlib.compressobj()\n",
    "    \n",
    "    with open(path, 'wb') as fout:\n",
    "        write_compressed(fout, zlib_obj, hstream, flush=False)\n",
    "        write_compressed(fout, zlib_obj, dstream, flush=True)  \n",
    "        \n",
    "def compute_sha1_hash(obj):\n",
    "    sha = hashlib.sha1()\n",
    "    with obj.header() as hstream, obj.data() as dstream:\n",
    "        while True:\n",
    "            data = hstream.read(4096)\n",
    "            if not data:\n",
    "                break    \n",
    "            sha.update(data)\n",
    "            \n",
    "        while True:\n",
    "            data = dstream.read(4096)\n",
    "            if not data:\n",
    "                break\n",
    "            sha.update(data)\n",
    "            \n",
    "    return sha.hexdigest()\n",
    "        \n",
    "class GitObject(object):\n",
    "    def __init__(self, objtype, data_path=None, data_stream=None):\n",
    "        # Can only have one of path or stream\n",
    "        if data_path is not None:\n",
    "            assert data_stream is None, \"Cannot provide both stream and path\"\n",
    "        else:\n",
    "            assert data_stream is not None, \"Must provide stream or path\"\n",
    "            \n",
    "        self.objtype = objtype\n",
    "        self.path = data_path\n",
    "        self.stream = data_stream\n",
    "        \n",
    "        self._hash = None\n",
    "        self._len = None\n",
    "    \n",
    "    @property\n",
    "    def hash(self):\n",
    "        if self._hash is None:\n",
    "            with self.header() as hstream, self.data() as dstream:\n",
    "                self._hash = compute_sha1_hash(self)\n",
    "        return self._hash\n",
    "    \n",
    "    def __len__(self):\n",
    "        if self._len is None:\n",
    "            with self.data() as dstream:\n",
    "                dstream.seek(0, os.SEEK_END)\n",
    "                self._len = dstream.tell()\n",
    "        return self._len\n",
    "    \n",
    "    @contextmanager\n",
    "    def header(self):\n",
    "        header = obj_header(self.objtype, len(self))\n",
    "        yield io.BytesIO(header)\n",
    "    \n",
    "    @contextmanager\n",
    "    def data(self):\n",
    "        f = None\n",
    "        try:\n",
    "            if self.path is not None:\n",
    "                f = open(self.path, 'rb')\n",
    "                yield f\n",
    "            else:\n",
    "                self.stream.seek(0)\n",
    "                yield self.stream\n",
    "        finally:\n",
    "            if f is not None:\n",
    "                f.close()\n",
    "                \n",
    "    def __repr__(self):\n",
    "        with obj.header() as hstream:\n",
    "            return hstream.read().decode() + ' ' + obj.hash\n",
    "        \n",
    "class BlobObject(GitObject):\n",
    "    def __init__(self, data_path=None, data_stream=None):\n",
    "        super(BlobObject, self).__init__('blob', data_path=data_path, data_stream=data_stream)\n",
    "    \n",
    "    "
   ]
  },
  {
   "cell_type": "code",
   "execution_count": 40,
   "metadata": {},
   "outputs": [
    {
     "name": "stdout",
     "output_type": "stream",
     "text": [
      "blob 30851\u0000 ad3ce99c0a2e8e83ccac518a8eaffc205384fa0d\n"
     ]
    }
   ],
   "source": [
    "obj = BlobObject(data_path='C:/Users/fille/source/repos/distributed-runner/diagrams.vsdx')\n",
    "print(obj)"
   ]
  },
  {
   "cell_type": "code",
   "execution_count": 6,
   "metadata": {},
   "outputs": [
    {
     "name": "stdout",
     "output_type": "stream",
     "text": [
      "30851\n"
     ]
    }
   ],
   "source": [
    "with open('C:/Users/fille/source/repos/distributed-runner/diagrams.vsdx', 'rb') as f:\n",
    "    f.seek(0, os.SEEK_END)\n",
    "    print(f.tell())"
   ]
  },
  {
   "cell_type": "code",
   "execution_count": 12,
   "metadata": {},
   "outputs": [
    {
     "data": {
      "text/plain": [
       "b'abc'"
      ]
     },
     "execution_count": 12,
     "metadata": {},
     "output_type": "execute_result"
    }
   ],
   "source": [
    "\"abc\".encode()"
   ]
  },
  {
   "cell_type": "code",
   "execution_count": 1,
   "metadata": {},
   "outputs": [
    {
     "name": "stdout",
     "output_type": "stream",
     "text": [
      "blob 30851\u0000 ad3ce99c0a2e8e83ccac518a8eaffc205384fa0d\n",
      "RAW 11\n",
      "COMPRESSED 2\n",
      "RAW 4096\n",
      "RAW 4096\n",
      "RAW 4096\n",
      "RAW 4096\n",
      "RAW 4096\n",
      "COMPRESSED 16580\n",
      "RAW 4096\n",
      "RAW 4096\n",
      "RAW 2179\n",
      "FLUSHED 10857\n"
     ]
    }
   ],
   "source": [
    "from cache import BlobObject, write_obj\n",
    "\n",
    "obj = BlobObject(data_path='C:/Users/fille/source/repos/distributed-runner/diagrams.vsdx')\n",
    "print(obj)\n",
    "\n",
    "with obj.header() as h, obj.data() as d:\n",
    "    write_obj('.', obj.hash, h, d)"
   ]
  },
  {
   "cell_type": "code",
   "execution_count": 7,
   "metadata": {},
   "outputs": [
    {
     "name": "stdout",
     "output_type": "stream",
     "text": [
      "INSTANCE True\n",
      "HAS ['__class__', '__del__', '__delattr__', '__dict__', '__dir__', '__doc__', '__enter__', '__eq__', '__exit__', '__format__', '__ge__', '__getattribute__', '__getstate__', '__gt__', '__hash__', '__init__', '__init_subclass__', '__iter__', '__le__', '__lt__', '__ne__', '__new__', '__next__', '__reduce__', '__reduce_ex__', '__repr__', '__setattr__', '__sizeof__', '__str__', '__subclasshook__', '_checkClosed', '_checkReadable', '_checkSeekable', '_checkWritable', '_dealloc_warn', '_finalizing', 'close', 'closed', 'detach', 'fileno', 'flush', 'isatty', 'mode', 'name', 'peek', 'raw', 'read', 'read1', 'readable', 'readinto', 'readinto1', 'readline', 'readlines', 'seek', 'seekable', 'tell', 'truncate', 'writable', 'write', 'writelines']\n"
     ]
    }
   ],
   "source": [
    "import io \n",
    "\n",
    "with open('C:/Users/fille/source/repos/distributed-runner/diagrams.vsdx', 'rb') as f:\n",
    "    print(\"INSTANCE\", isinstance(f, io.IOBase))\n",
    "    print(\"HAS\", dir(f))"
   ]
  },
  {
   "cell_type": "code",
   "execution_count": 9,
   "metadata": {},
   "outputs": [
    {
     "name": "stdout",
     "output_type": "stream",
     "text": [
      "False\n"
     ]
    }
   ],
   "source": [
    "s = io.StringIO('ABC')\n",
    "print(hasattr(s, 'len'))"
   ]
  },
  {
   "cell_type": "code",
   "execution_count": 14,
   "metadata": {},
   "outputs": [
    {
     "data": {
      "text/plain": [
       "b'%&'"
      ]
     },
     "execution_count": 14,
     "metadata": {},
     "output_type": "execute_result"
    }
   ],
   "source": [
    "x = b'\\x23\\x00\\x25\\x26'\n",
    "x[x.find(b'\\x00')+1:]"
   ]
  },
  {
   "cell_type": "code",
   "execution_count": 17,
   "metadata": {},
   "outputs": [
    {
     "data": {
      "text/plain": [
       "'#E'"
      ]
     },
     "execution_count": 17,
     "metadata": {},
     "output_type": "execute_result"
    }
   ],
   "source": [
    "b''.join([b'\\x23', b'\\x45']).decode()"
   ]
  },
  {
   "cell_type": "code",
   "execution_count": 1,
   "metadata": {},
   "outputs": [],
   "source": [
    "from cache import read_object, write_object\n",
    "import io\n",
    "\n",
    "repo = './repo'\n",
    "\n",
    "data = io.BytesIO(\"SOME DATA NEW DATA\".encode())\n",
    "\n",
    "sha = write_object('./repo', 'blob', data)"
   ]
  },
  {
   "cell_type": "code",
   "execution_count": 4,
   "metadata": {},
   "outputs": [
    {
     "name": "stdout",
     "output_type": "stream",
     "text": [
      "TYPE: 'blob'\n",
      "LENGTH: 18 bytes\n",
      "DATA: 'SOME DATA NEW DATA'\n"
     ]
    }
   ],
   "source": [
    "\n",
    "with read_object(repo, sha) as obj:\n",
    "    print('TYPE:', \"'%s'\" % obj.type)\n",
    "    print('LENGTH:', '%d bytes' % obj.length)\n",
    "    print('DATA:', \"'%s'\" % b''.join([chunk for chunk in obj]).decode())\n",
    "        "
   ]
  },
  {
   "cell_type": "code",
   "execution_count": 3,
   "metadata": {},
   "outputs": [
    {
     "name": "stdout",
     "output_type": "stream",
     "text": [
      "Total written: 619.88 MB\n",
      "It took 25.54059338569641 seconds\n"
     ]
    }
   ],
   "source": [
    "from cache import read_object, write_object, write_tree\n",
    "import io, time\n",
    "\n",
    "start = time.time()\n",
    "\n",
    "repo = './repo'\n",
    "work_dir = 'C:\\\\Users\\\\fille\\\\source\\\\secure\\\\trunk2\\\\trunk\\\\bin'\n",
    "sha = write_tree(repo, work_dir)\n",
    "\n",
    "print(\"It took %s seconds\" % (time.time()-start))"
   ]
  },
  {
   "cell_type": "code",
   "execution_count": 6,
   "metadata": {},
   "outputs": [
    {
     "name": "stdout",
     "output_type": "stream",
     "text": [
      "It took 46.9803946018219 seconds\n"
     ]
    }
   ],
   "source": [
    "start = time.time()\n",
    "sha = write_tree(repo, work_dir)\n",
    "print(\"It took %s seconds\" % (time.time()-start))"
   ]
  },
  {
   "cell_type": "code",
   "execution_count": 2,
   "metadata": {},
   "outputs": [
    {
     "name": "stdout",
     "output_type": "stream",
     "text": [
      "TYPE: 'tree'\n",
      "LENGTH: 32274 bytes\n",
      "DATA:\n",
      "'100444' '0cf47a411f8adfe4f50c04efadc3e4bbb7b6be90' '.travis.yml'\n",
      "'100444' '83a68ab0941a5cf600fb14ca7ab42ce1d35e280b' 'AUTHORS'\n",
      "'100444' '468cb3fbec3f7c950711d5f9274250f141f31fcc' 'CHANGES.rst'\n",
      "'100444' '904f1837cd3d3d6cf8a4a36c0e415b701f799413' 'CONTRIBUTING.rst'\n",
      "'100444' 'e2bb85d0ba28f7aacbc45a90158b30c37d4c922a' 'LICENSE'\n",
      "'100444' '4f28c3322b60052fdbbc6a19b9a070f3f1f17dc8' 'MAINTAINERS.rst'\n",
      "'100444' '5d56245509a656cddb5e16360cd2d724d1d1abb4' 'MANIFEST.in'\n",
      "'100444' '3fc3fcb5f6e111881d56447854cca004cf7dbbf4' 'README.rst'\n",
      "'100444' '88b873982b3c3d0babfd341d4ee15483c3a64390' 'requirements_dev.txt'\n",
      "'100444' '8cc605892a11fb791be1b2b3a240640448cba14d' 'setup.cfg'\n",
      "'100444' 'd627c343de8b46c417d9a827dc29964f94e473b4' 'setup.py'\n",
      "'100444' '50a02b14def8cfcecff0b70cf360338be0cd4a47' 'tox.ini'\n",
      "'100444' 'e81728e7dfe60a633410e52ef72d9a35ada87b78' 'doc\\.fresh-start'\n",
      "'100444' '6ab1795b8e9369f66ec5f89e2868915e7d6d5fa5' 'doc\\builders.rst'\n",
      "'100444' 'f90a26a59944681ac5d67bed35a75ea0842843fb' 'doc\\changelog.rst'\n",
      "'100444' 'ba78ebde68d630353110da9af4d3a86136b3e08d' 'doc\\conf.py'\n",
      "'100444' '53781955a4355ee6cd39c07575a962a01b40ec54' 'doc\\configuration.rst'\n",
      "'100444' '9c07877a3ac413a9a3e781baef3cdc304ddb82cd' 'doc\\directives.rst'\n",
      "'100444' '8a40a3c85e327a47cf24291caf6ef7fedde0110e' 'doc\\documentation.rst'\n",
      "'100444' '72b485802f0de50d3a4faa4017d41509bebc54ff' 'doc\\index.rst'\n",
      "'100444' '12d6352eab0dca9297e608c981adf736d602d151' 'doc\\install.rst'\n",
      "'100555' '50e93fe73ef77d5213cac57d943ceecb940c55e8' 'doc\\make.bat'\n",
      "'100444' '44f82f116cd64351bdbd7002a70d3d7095bc32dd' 'doc\\Makefile'\n",
      "'100444' '878956617f128474230c52ab887728aa50e72399' 'doc\\markup.rst'\n",
      "'100444' '7e48fd07fa48d648228c22d97724c822c605fabc' 'doc\\tips.rst'\n",
      "'100444' '0f4637debbaf00c2dd20ce2e1b5ce0998e2a98b8' 'doc\\tutorial.rst'\n",
      "'100444' 'f4d7093479cfff65cc3ea46ba713a2e5f5fd77ce' 'doc\\_static\\theme_overrides.css'\n",
      "'100444' 'ab989380e0639f19364de9e9364267f524e429c8' 'sphinxcontrib\\__init__.py'\n",
      "'100444' '24ac1377aa53c0ab5ea0347b46bac470d24e7780' 'sphinxcontrib\\confluencebuilder\\assets.py'\n",
      "'100444' 'dea73261c257b3bb87ae0731f7ccae4089b6efe6' 'sphinxcontrib\\confluencebuilder\\builder.py'\n",
      "'100444' 'fa79efe0d80aca92886261687ec50a61546d2686' 'sphinxcontrib\\confluencebuilder\\compat.py'\n",
      "'100444' '4e386c76ff69bf2337aafafc570523683adefeee' 'sphinxcontrib\\confluencebuilder\\config.py'\n",
      "'100444' '7b154ea0f8257dcfec81827e371a9b3b97bb0bcc' 'sphinxcontrib\\confluencebuilder\\directives.py'\n",
      "'100444' '4f029811f5c400e980a4bd28829c5ab374c5a2d5' 'sphinxcontrib\\confluencebuilder\\exceptions.py'\n",
      "'100444' '41068f3259f048a7520c0f34658419d0a4786128' 'sphinxcontrib\\confluencebuilder\\logger.py'\n",
      "'100444' '5590ef783ac886691469f93e627d499f18d3dab8' 'sphinxcontrib\\confluencebuilder\\nodes.py'\n",
      "'100444' '0b5013e15bbabef50e2273462ba935d645f10fcd' 'sphinxcontrib\\confluencebuilder\\publisher.py'\n",
      "'100444' '5492023406ad3751699d68c817aba3a4cc6edd8c' 'sphinxcontrib\\confluencebuilder\\rest.py'\n",
      "'100444' '112fbedccf7b5b0ed3b9046eff922468637b3707' 'sphinxcontrib\\confluencebuilder\\singlebuilder.py'\n",
      "'100444' '06e9095fec12f943b2850a55942408190e5aa0ff' 'sphinxcontrib\\confluencebuilder\\state.py'\n",
      "'100444' '485d529592bd5442f7c14e4ec13aa975d6f8708d' 'sphinxcontrib\\confluencebuilder\\translator.py'\n",
      "'100444' '93f81974059e98d789a2983161aca40d3ca43ceb' 'sphinxcontrib\\confluencebuilder\\util.py'\n",
      "'100444' '56a2a5d04e360f9fa6dcf31809e1b7bf02944899' 'sphinxcontrib\\confluencebuilder\\writer.py'\n",
      "'100444' '9994fb2990a693c898985fae198192fbc9ef3947' 'sphinxcontrib\\confluencebuilder\\__init__.py'\n",
      "'100444' 'a0dd2f0fce5a10dbd67831ec300805c51c15c073' 'sphinxcontrib\\confluencebuilder\\__main__.py'\n",
      "'100444' '54bc72eef3c92f01d57db943cce9faf8d34129b4' 'sphinxcontrib\\confluencebuilder\\std\\confluence.py'\n",
      "'100444' '422343a2c2e582146c78d2abf40399d05ca5c8f6' 'sphinxcontrib\\confluencebuilder\\std\\sphinx.py'\n",
      "'100444' '802fd2730b7a4dee75a4235636878dece766cb91' 'sphinxcontrib\\confluencebuilder\\std\\__init__.py'\n",
      "'100444' 'b76992b57793fe5fbb2c0c2891a2858f183f27b7' 'test\\.gitignore'\n",
      "'100444' '3e92e562b3adfeb2d8f02886601736cecaf0014d' 'test\\sphinxcontrib_confluencebuilder_util.py'\n",
      "'100444' 'd508c17ea99cbf96f24f7b26c2203179cb1571b1' 'test\\test_main.py'\n",
      "'100444' 'fbd606ea0305e4e337f2b406e973fa0983039274' 'test\\test_sandbox.py'\n",
      "'100444' '4f725a7f64e2beb23d89b0157bbaaa6b658fe221' 'test\\test_validation.py'\n",
      "'100444' 'cd90be7e844f0bfd518c5de3c1a54b9d891367fb' 'test\\sandbox\\.gitignore'\n",
      "'100444' 'b321eb5e416fe8791a11b0dd7483a89a96ff571c' 'test\\sandbox\\README'\n",
      "'100444' '2113974085359fd10f86582fdab57a4965293f9c' 'test\\unit-tests\\common\\test_alignment.py'\n",
      "'100444' '1c500851634279c0e2a7ce2355892e8ff446ebad' 'test\\unit-tests\\common\\test_common.py'\n",
      "'100444' 'e7a4e6bfafb90b748ca64d17f8be89fb455c629a' 'test\\unit-tests\\common\\test_config.py'\n",
      "'100444' '2669d2d075546176de9b6dd6d99d2e7868e3a275' 'test\\unit-tests\\common\\test_domains.py'\n",
      "'100444' '16f878d6ac185550eee833fe07ff5a6b97981032' 'test\\unit-tests\\common\\test_header_footer.py'\n",
      "'100444' '0d50f5e1e2185dc6eda56465c3d0f678728692ae' 'test\\unit-tests\\common\\test_headings.py'\n",
      "'100444' '8c7c0396021453a20b5ccf9ec9b07dfe4072c7a7' 'test\\unit-tests\\common\\test_image_star.py'\n",
      "'100444' 'e7bb956e55b319602dcb6c88c296f20624fc1910' 'test\\unit-tests\\common\\test_jira.py'\n",
      "'100444' '133506a3cf42c7acea9b8fae6cd7205cc436265b' 'test\\unit-tests\\common\\test_manpage.py'\n",
      "'100444' '82929cca9c21d446f1e2e24188100ab03cdb4104' 'test\\unit-tests\\common\\test_prefix_and_postfix_publish.py'\n",
      "'100444' '426e8b7e1eeca76131ce5285d698213d3a434c57' 'test\\unit-tests\\common\\test_prev_next.py'\n",
      "'100444' 'ae50ef3f874dc53c030d1d9af023bc9ec4fc2b1b' 'test\\unit-tests\\common\\test_translator.py'\n",
      "'100444' 'fd220fe62c3594703f0ee3d4d67ab1f949be6e32' 'test\\unit-tests\\common\\test_util.py'\n",
      "'100444' '86e2a241d50ea8ba8cd2feb97cb07b3e51d5c97f' 'test\\unit-tests\\common\\__init__.py'\n",
      "'100444' 'f6f8648263f29431465f3295fb45fc0a156e16b7' 'test\\unit-tests\\common\\assets\\.gitattributes'\n",
      "'100444' 'cd851e8548c9b90381ce1e7acd4f4bf75d8e8753' 'test\\unit-tests\\common\\assets\\example.pdf'\n",
      "'100444' '5133a65fe321c794e6f5dc76a3e740338882c516' 'test\\unit-tests\\common\\assets\\image01.png'\n",
      "'100444' '38eaa2f5b91a8add28540ba2286779fe6d20d54f' 'test\\unit-tests\\common\\assets\\image02.png'\n",
      "'100444' 'f6b9b4c2f9c5271c8ec0337b1cfc32043e9519ad' 'test\\unit-tests\\common\\assets\\image03.png'\n",
      "'100444' '69dbe234436eb9adde20e3ac17158403dcc8d009' 'test\\unit-tests\\common\\dataset-alignment\\index.rst'\n",
      "'100444' 'dd5b798daf3a4e84dd1af3d0d691f7606a2c0d95' 'test\\unit-tests\\common\\dataset-common\\admonitions.rst'\n",
      "'100444' '6d7f435f8b1641abccaac67e81b626dd3e29d377' 'test\\unit-tests\\common\\dataset-common\\attribution.rst'\n",
      "'100444' '230f55facf07cf49aa5fafd1c6b1807128f4f0f7' 'test\\unit-tests\\common\\dataset-common\\bibliographic.rst'\n",
      "'100444' 'fb6e2eb6c6da16a044bb36b9e8df7e4990c5abb8' 'test\\unit-tests\\common\\dataset-common\\block-quotes.rst'\n",
      "'100444' 'de749b6886325ee73f00129fdf85b4f96c49bb8a' 'test\\unit-tests\\common\\dataset-common\\citations.rst'\n",
      "'100444' '540d6ed45a8323bd82c38d5b4652ba52ffb90b13' 'test\\unit-tests\\common\\dataset-common\\contents-ref.rst'\n",
      "'100444' '3a92b24a3dd16c86da8ba9c08ccf4172e39e630e' 'test\\unit-tests\\common\\dataset-common\\contents.rst'\n",
      "'100444' '4988273e7ce667b8605e552022a11b1445877af5' 'test\\unit-tests\\common\\dataset-common\\definition-lists.rst'\n",
      "'100444' 'e3ac5517bc967e1b3b6ff96004bd9072fa4d523b' 'test\\unit-tests\\common\\dataset-common\\deprecated.rst'\n",
      "'100444' 'd50a30cf95f08e9ef937da462ee24a8fafca10d5' 'test\\unit-tests\\common\\dataset-common\\download.rst'\n",
      "'100444' '2d446e01b317d38b295250cfd549fed543e7d548' 'test\\unit-tests\\common\\dataset-common\\epigraph.rst'\n",
      "'100444' 'a14da74fb377b17489eeecbf8440d9b342fb1e4b' 'test\\unit-tests\\common\\dataset-common\\figure.rst'\n",
      "'100444' 'e06c7d1b26e0dddadbe62166ac4e8d070c4c7873' 'test\\unit-tests\\common\\dataset-common\\footnotes.rst'\n",
      "'100444' '72ea8a4dcf65ff467014d9ea8b37c32a68a3f09e' 'test\\unit-tests\\common\\dataset-common\\glossary-ref.rst'\n",
      "'100444' '12ea931c3557f2f153d8438d9acf13cbe126c3a4' 'test\\unit-tests\\common\\dataset-common\\glossary.rst'\n",
      "'100444' '2756702654d7501532a28267931c039a9cd8b9dd' 'test\\unit-tests\\common\\dataset-common\\image.rst'\n",
      "'100444' '3f01b3bfeb47d5f24e38047266b0540a3c65db9d' 'test\\unit-tests\\common\\dataset-common\\index.rst'\n",
      "'100444' '101c77588810e0860e9beaa0a1cedb8d7775ac55' 'test\\unit-tests\\common\\dataset-common\\list-table.rst'\n",
      "'100444' '659e43118d63d9c3d1dce937950e2c938c7c4bb7' 'test\\unit-tests\\common\\dataset-common\\lists.rst'\n",
      "'100444' 'bb0b9186d354e1eae09eaa99016d07c8f3a61d4f' 'test\\unit-tests\\common\\dataset-common\\markup.rst'\n",
      "'100444' 'c3d2bbe5dc4ced91f328cf887b1b1dcb99527ef9' 'test\\unit-tests\\common\\dataset-common\\option-lists.rst'\n",
      "'100444' '358d1e69f14e0b147d962a4778c92574a534e6a9' 'test\\unit-tests\\common\\dataset-common\\parsed-literal.rst'\n",
      "'100444' '4441f638799ac7c9fbdb5c6824d453166e161849' 'test\\unit-tests\\common\\dataset-common\\production-list.rst'\n",
      "'100444' '51ed90119a62948e99f8d347f21d41b9f5688b59' 'test\\unit-tests\\common\\dataset-common\\raw.rst'\n",
      "'100444' '23bb3b3c6b1f552625d642ca1383c9ebfaeb3df3' 'test\\unit-tests\\common\\dataset-common\\references-ref.rst'\n",
      "'100444' '48faef6f7b27622dac2eccaa170b0bf2a7220554' 'test\\unit-tests\\common\\dataset-common\\references.rst'\n",
      "'100444' '444887e9cd795a9a4711caa6ea8f39ac69f0f703' 'test\\unit-tests\\common\\dataset-common\\sections.rst'\n",
      "'100444' '6faf4db2783bcf8ac5e3ff30440e896c50c85b06' 'test\\unit-tests\\common\\dataset-common\\tables.rst'\n",
      "'100444' '9ef471b428e4b0e3859889411ceb2dc86855cb9b' 'test\\unit-tests\\common\\dataset-common\\transitions.rst'\n",
      "'100444' 'b1c697998812ed9e4bd6efdaabf31649995a1b14' 'test\\unit-tests\\common\\dataset-domains\\c.rst'\n",
      "'100444' '4c8925966d08b406a9c2209625f4530d4b717b96' 'test\\unit-tests\\common\\dataset-domains\\cpp.rst'\n",
      "'100444' 'e69de29bb2d1d6434b8b29ae775ad8c2e48c5391' 'test\\unit-tests\\common\\dataset-domains\\index.rst'\n",
      "'100444' '2bbe5f0bc8a910af37771ba1b3bd00155b67ae31' 'test\\unit-tests\\common\\dataset-domains\\js.rst'\n",
      "'100444' 'fc47480afa49ff56e91b4f057a11ad7203908cba' 'test\\unit-tests\\common\\dataset-domains\\py.rst'\n",
      "'100444' '730597592394fef55e74ad0c924a43c14aff3c83' 'test\\unit-tests\\common\\dataset-domains\\rst.rst'\n",
      "'100444' 'a4efd182b97efc80a31a976b99c0b364f14f3320' 'test\\unit-tests\\common\\dataset-header-footer\\header-footer.rst'\n",
      "'100444' 'e2363d9c417fd951676c8be2212192a068aafe53' 'test\\unit-tests\\common\\dataset-header-footer\\index.rst'\n",
      "'100444' '710766654d79b31579824e317b94ac6a802aec51' 'test\\unit-tests\\common\\dataset-headings\\headings.rst'\n",
      "'100444' 'e2363d9c417fd951676c8be2212192a068aafe53' 'test\\unit-tests\\common\\dataset-headings\\index.rst'\n",
      "'100444' 'b1c65e3a972ee471dc24993ba3b9deb32697f6a2' 'test\\unit-tests\\common\\dataset-image-star\\index.rst'\n",
      "'100444' '957db8ce10763ba8dbafa8c1693b414cde551050' 'test\\unit-tests\\common\\dataset-jira\\bad-sid\\index.rst'\n",
      "'100444' 'ce63a563c03728359f23f9511ff37ddb20898781' 'test\\unit-tests\\common\\dataset-jira\\common\\index.rst'\n",
      "'100444' '698b09119f35844c2527fa0dee2b65e42b2f754c' 'test\\unit-tests\\common\\dataset-jira\\conflicting-server-id\\index.rst'\n",
      "'100444' '03b9a9c1d59f370c07752eff6bd749f5f2c847ed' 'test\\unit-tests\\common\\dataset-jira\\conflicting-server-name\\index.rst'\n",
      "'100444' 'f6da1559005def464defa2b0fe160b68054f69f4' 'test\\unit-tests\\common\\dataset-jira\\missing-server-entry\\index.rst'\n",
      "'100444' '069c4b63ca59ee0367fe946ce72924c3cb31a528' 'test\\unit-tests\\common\\dataset-jira\\missing-server-id\\index.rst'\n",
      "'100444' 'c386ca07c5790f3f866cb4c2f2f91d4e1b3394a5' 'test\\unit-tests\\common\\dataset-jira\\missing-server-name\\index.rst'\n",
      "'100444' '46f140dd54ec4841b683476cd8a6b86bd3d5d5a1' 'test\\unit-tests\\common\\dataset-manpage\\index.rst'\n",
      "'100444' '02bdb36b2bfe244f264b8111a70c9e04fa2a7558' 'test\\unit-tests\\common\\dataset-prefix-postfix\\index.rst'\n",
      "'100444' '8e54c8eba369b3ff35b73bfee15e7c8ca3798333' 'test\\unit-tests\\common\\dataset-prefix-postfix\\page1.rst'\n",
      "'100444' 'fe5e2cf4cfef71eadba63e532b9e0b266628fc40' 'test\\unit-tests\\common\\dataset-prefix-postfix\\page2.rst'\n",
      "'100444' '94cea6379759f3293872d88b06f4621712998035' 'test\\unit-tests\\common\\dataset-prefix-postfix\\page3.rst'\n",
      "'100444' '1b130a531e3ddf707cf117753db6f8a4d2c065af' 'test\\unit-tests\\common\\dataset-prevnext\\final.rst'\n",
      "'100444' '6b1fb567db73ecaf3c9f2b906e6dcd9b1bac3e3b' 'test\\unit-tests\\common\\dataset-prevnext\\index.rst'\n",
      "'100444' '869ee012a33213859cc3963b343779efef0c3a0d' 'test\\unit-tests\\common\\dataset-prevnext\\middle.rst'\n",
      "'100444' '8c8a838e9a18684215493397801870556a246198' 'test\\unit-tests\\common\\expected\\admonitions.conf'\n",
      "'100444' '294bdae6e37623203be3f0bf8042c939747c3cdb' 'test\\unit-tests\\common\\expected\\alignment-center.conf'\n",
      "'100444' '382d694686ba261deb5f3bcbdbce462c31e33d95' 'test\\unit-tests\\common\\expected\\alignment-left.conf'\n",
      "'100444' 'c77dd72f8e01ce2cc6e720bb72891589db20aa91' 'test\\unit-tests\\common\\expected\\alignment-right.conf'\n",
      "'100444' '3037feed562cf24a0e094195a7b2139406d07158' 'test\\unit-tests\\common\\expected\\attribution.conf'\n",
      "'100444' 'df10f7c779168de5b914c048212eef013f09b4f4' 'test\\unit-tests\\common\\expected\\bibliographic.conf'\n",
      "'100444' 'c8d2b696b32cdc2fedb36d1d7fe24959cb229697' 'test\\unit-tests\\common\\expected\\block-quotes.conf'\n",
      "'100444' '5ce002ba0df785cde3fc849e2d83ed21f652c402' 'test\\unit-tests\\common\\expected\\citations.conf'\n",
      "'100444' 'ce048569f81938bfbfccf3b8537623a1c0e5cf42' 'test\\unit-tests\\common\\expected\\contents.conf'\n",
      "'100444' '03b68cc32ff9e24ba4e062c544fcba3442192f8b' 'test\\unit-tests\\common\\expected\\definition-lists.conf'\n",
      "'100444' '828b570b39913db1f34dfdf63e6605b21581111b' 'test\\unit-tests\\common\\expected\\deprecated.conf'\n",
      "'100444' '41d1c66d6e2920e6b779535d1118f8e84bf9aa0d' 'test\\unit-tests\\common\\expected\\download.conf'\n",
      "'100444' 'e2115e3386482483dad40cefb8e35d17e4d85bca' 'test\\unit-tests\\common\\expected\\epigraph.conf'\n",
      "'100444' '7a19774cfbbe92790153a4d0a332d2b0c90e806a' 'test\\unit-tests\\common\\expected\\figure.conf'\n",
      "'100444' '9545db143b90d46cffe3a810e3b3b857b0040cc6' 'test\\unit-tests\\common\\expected\\footnotes.conf'\n",
      "'100444' '6cc1c4aa0a0f7beb853181d58e167f4538f4bcd6' 'test\\unit-tests\\common\\expected\\glossary-ref.conf'\n",
      "'100444' '76f1aad5d07a5f0765f07d9bde0252575b482780' 'test\\unit-tests\\common\\expected\\glossary.conf'\n",
      "'100444' '6f950c6c9583d73974dc2a3bbbb2b37fdc5824f2' 'test\\unit-tests\\common\\expected\\header-footer.conf'\n",
      "'100444' '6ed6b699284296a479db851b065c289a8d7e346b' 'test\\unit-tests\\common\\expected\\headings-default.conf'\n",
      "'100444' '213fcdc22570835bc426638486c9e9c0a5f9505a' 'test\\unit-tests\\common\\expected\\headings-with-title.conf'\n",
      "'100444' '8642cd0e02441102b91f36df35a47a4a1109605a' 'test\\unit-tests\\common\\expected\\image.conf'\n",
      "'100444' '04c9ab503b81255f318c7bd622008092584900ab' 'test\\unit-tests\\common\\expected\\index.conf'\n",
      "'100444' '65e75bc1bee9bc4807c8161a6685e041281cd3f9' 'test\\unit-tests\\common\\expected\\jira.conf'\n",
      "'100444' 'fd8e10ea8085d6ed423619a0524d3c442dd8ea83' 'test\\unit-tests\\common\\expected\\list-table.conf'\n",
      "'100444' '20fcba2b98bb4844e11a86b3eecf76a631434da6' 'test\\unit-tests\\common\\expected\\lists.conf'\n",
      "'100444' 'e449d9f466a6360d298677ae75304519da0e2714' 'test\\unit-tests\\common\\expected\\manpage-conf.conf'\n",
      "'100444' '18c4e7df9d956e1ec42c2f17a0f37f3511dc59c8' 'test\\unit-tests\\common\\expected\\manpage-noconf.conf'\n",
      "'100444' '657942747e1763a1015f4e41a416d897eb6263be' 'test\\unit-tests\\common\\expected\\markup.conf'\n",
      "'100444' 'aad5e1a12b2e3c83e8bf57097bea08d515a67322' 'test\\unit-tests\\common\\expected\\option-lists.conf'\n",
      "'100444' 'aba064c75cf058ac185f103daa72719f446644ef' 'test\\unit-tests\\common\\expected\\parsed-literal.conf'\n",
      "'100444' 'f6208a3099d4f59acb3fe798e411314d8dd15a4f' 'test\\unit-tests\\common\\expected\\production-list.conf'\n",
      "'100444' '71c103793d9907c27d9970262bbaa4b4502b3d4e' 'test\\unit-tests\\common\\expected\\raw.conf'\n",
      "'100444' '454efa748e5c6120c18ec53b033991184af1dfda' 'test\\unit-tests\\common\\expected\\references-ref.conf'\n",
      "'100444' '1c0a4d3d711d55f00f05d8fd4d9683b3ee7d1097' 'test\\unit-tests\\common\\expected\\references.conf'\n",
      "'100444' '260652afc6dc89ff433027a83af475faba800550' 'test\\unit-tests\\common\\expected\\sections.conf'\n",
      "'100444' 'd8c53b5c2e3c2e6ca57cc7fbb8f3be3228810aec' 'test\\unit-tests\\common\\expected\\tables.conf'\n",
      "'100444' 'a0915a6d1d128d60dcb24760ca41b5bde70dd346' 'test\\unit-tests\\common\\expected\\transitions.conf'\n",
      "'100444' 'ebb5625b84c5dc15a5525fd9fd387cdeb4dc8492' 'test\\unit-tests\\common\\expected-center\\figure.conf'\n",
      "'100444' 'ebd0dcfd1b8e2ea32b27cd1a2a1a88485f5d4720' 'test\\unit-tests\\common\\expected-domains\\c.conf'\n",
      "'100444' '5ddd6d9142f26d793ed102f91124f16be86b8723' 'test\\unit-tests\\common\\expected-domains\\cpp.conf'\n",
      "'100444' '940db6e4d08be6beea0abe9f20e416448f7acf9f' 'test\\unit-tests\\common\\expected-domains\\js.conf'\n",
      "'100444' '930cf8950c61fa20dd3128e088781d89f8d768ee' 'test\\unit-tests\\common\\expected-domains\\py.conf'\n",
      "'100444' 'ccfcdc7baf1f4a1cae5ec4d13567680794643aa1' 'test\\unit-tests\\common\\expected-domains\\rst.conf'\n",
      "'100444' '88b75e47f47d404f8b9f14009b6cce7625fd17d6' 'test\\unit-tests\\common\\expected-image-star\\index.conf'\n",
      "'100444' '2902c34427514bbe1265a0923080bfa1b4341957' 'test\\unit-tests\\common\\expected-prefix-postfix\\index_both.conf'\n",
      "'100444' '6330cc7f9fba61d2f1b0a14c8ea15bca65c13421' 'test\\unit-tests\\common\\expected-prefix-postfix\\index_postfix.conf'\n",
      "'100444' 'f1d0b1753f3326770470857169fe6afd92a9aa42' 'test\\unit-tests\\common\\expected-prefix-postfix\\index_prefix.conf'\n",
      "'100444' '7cdfb04b5ebb4138a2d0d839e54bb4b1144babf5' 'test\\unit-tests\\common\\expected-prefix-postfix\\page1.conf'\n",
      "'100444' '460bafada74745c95d9b38111f917d8110b8cc09' 'test\\unit-tests\\common\\expected-prefix-postfix\\page2.conf'\n",
      "'100444' '9fb9dc6374797afe306f3b0e93c5fd5771f3c69c' 'test\\unit-tests\\common\\expected-prefix-postfix\\page3.conf'\n",
      "'100444' '413bfe9662d576a5bb5e6de8fb908879bbad246a' 'test\\unit-tests\\common\\templates\\sample-footer.tpl'\n",
      "'100444' '5e3d6c7cf43a83d7bedc3e52646de382887af22f' 'test\\unit-tests\\common\\templates\\sample-header.tpl'\n",
      "'100444' 'dea98542904471af0eaceba0245de429748437cc' 'test\\unit-tests\\literal-markup\\test_literal_markup.py'\n",
      "'100444' 'f1d51f86ed8d3316b0eb2c44008c896fab858f53' 'test\\unit-tests\\literal-markup\\test_literal_markup_advanced.py'\n",
      "'100444' '86e2a241d50ea8ba8cd2feb97cb07b3e51d5c97f' 'test\\unit-tests\\literal-markup\\__init__.py'\n",
      "'100444' 'ff4d6c7e9c788b98711fbe65d81c5f02b01e5c22' 'test\\unit-tests\\literal-markup\\dataset\\code_blocks.rst'\n",
      "'100444' 'e141edf6c2443fc597e0f5e09103c9f7388f2919' 'test\\unit-tests\\literal-markup\\dataset\\index.rst'\n",
      "'100444' 'b3e0f225637fdc2335333382f9610edc297c3b57' 'test\\unit-tests\\literal-markup\\dataset\\literal_blocks.rst'\n",
      "'100444' '7dfea26c9bfe3ac413fe67f5b668d3f6aec3dd97' 'test\\unit-tests\\literal-markup\\dataset\\literal_includes.rst'\n",
      "'100444' '21904db4a3a0a30b9b63a6629d19219b570206e3' 'test\\unit-tests\\literal-markup\\dataset\\assets\\example.c'\n",
      "'100444' '63221662398802163875cb1ebdc15c96cfee236b' 'test\\unit-tests\\literal-markup\\dataset\\assets\\example.cpp'\n",
      "'100444' '4c3925a0764e484e7acea2eb0af4e271f861879b' 'test\\unit-tests\\literal-markup\\dataset\\assets\\example.html'\n",
      "'100444' '5857981404b590632ab5bf349d347ee72c3f2d2a' 'test\\unit-tests\\literal-markup\\dataset\\assets\\example.java'\n",
      "'100444' '85887e7ffff077211b0052c2393358a69709ce1b' 'test\\unit-tests\\literal-markup\\dataset\\assets\\example.py'\n",
      "'100444' 'ca8ac675c373c9b718286962a5c0f6ae353bca66' 'test\\unit-tests\\literal-markup\\dataset-advanced\\example.html'\n",
      "'100444' '85887e7ffff077211b0052c2393358a69709ce1b' 'test\\unit-tests\\literal-markup\\dataset-advanced\\example.py'\n",
      "'100444' '4646a1d33d4e9c7f90efa7fc4e2eecbac9624bfb' 'test\\unit-tests\\literal-markup\\dataset-advanced\\index.rst'\n",
      "'100444' 'dcedd9a6ba5453fd57acff4916446ce7f6e579e0' 'test\\unit-tests\\literal-markup\\expected\\code_blocks.conf'\n",
      "'100444' '4a888ce87ab3299f4d2c4bc94c3415d574090927' 'test\\unit-tests\\literal-markup\\expected\\literal_blocks.conf'\n",
      "'100444' '1b40eb4fd14b758c8fc79d1aff2c63be73312f94' 'test\\unit-tests\\literal-markup\\expected\\literal_includes.conf'\n",
      "'100444' 'e069b53d58b53d1c368e6987e48f58124603d6e5' 'test\\unit-tests\\literal-markup\\expected-hd\\index.conf'\n",
      "'100444' '0c71d74ce2de5817e0e75867ba173fa706071084' 'test\\unit-tests\\literal-markup\\expected-hs\\index.conf'\n",
      "'100444' 'bd2c24feb93d8ea9dd4b7121c032f6f4f3c2822c' 'test\\unit-tests\\literal-markup\\expected-ol\\index.conf'\n",
      "'100444' '70f269ac668f66c9c0cc24f40976bd4a28376a4b' 'test\\unit-tests\\single-page\\test_singlepage.py'\n",
      "'100444' '86e2a241d50ea8ba8cd2feb97cb07b3e51d5c97f' 'test\\unit-tests\\single-page\\__init__.py'\n",
      "'100444' 'f3b90b66dfde9007b6f0772b327566a916b3676c' 'test\\unit-tests\\single-page\\dataset\\index.rst'\n",
      "'100444' 'd4196e8a831e291e921e9d5323055753cda38bfa' 'test\\unit-tests\\single-page\\dataset\\page-a.rst'\n",
      "'100444' '39f190e55ae0b3956db96a5a9da795cfd36c303c' 'test\\unit-tests\\single-page\\dataset\\page-b.rst'\n",
      "'100444' '712d3cbc7bf2b298bc1b575deb1d9e881e6577d8' 'test\\unit-tests\\single-page\\expected\\index.conf'\n",
      "'100444' '713fe622ee26be12af0515a5132fe5cf361b7141' 'test\\unit-tests\\toctree\\test_toctree.py'\n",
      "'100444' '70a74371bc6c79a3c05ad5a052b9ed7bed9cde5f' 'test\\unit-tests\\toctree\\test_toctree_hierarchy.py'\n",
      "'100444' '86e2a241d50ea8ba8cd2feb97cb07b3e51d5c97f' 'test\\unit-tests\\toctree\\__init__.py'\n",
      "'100444' '4c6bd2fb38215f04a2ee22ea775b2317e57badbc' 'test\\unit-tests\\toctree\\dataset\\doca.rst'\n",
      "'100444' '3a45bc847712a3b487bba4c74230ca06834ad301' 'test\\unit-tests\\toctree\\dataset\\doca1.rst'\n",
      "'100444' '796d6eae288e2630d3faf3ff25cfc8101e88b797' 'test\\unit-tests\\toctree\\dataset\\doca2.rst'\n",
      "'100444' 'f8de54464723dc949ba2dabc8a2eb20166b3a6d8' 'test\\unit-tests\\toctree\\dataset\\docb.rst'\n",
      "'100444' '7eb4731bbac8b043efb20b29affea263d50a2581' 'test\\unit-tests\\toctree\\dataset\\docb1.rst'\n",
      "'100444' '3b7cf7de143c03a5c99d2c7d2c17a0125d7a6f87' 'test\\unit-tests\\toctree\\dataset\\docc.rst'\n",
      "'100444' '4e453a212c4bb83e2a4f0466574a91e3650887e2' 'test\\unit-tests\\toctree\\dataset\\docc1.rst'\n",
      "'100444' '887a8e75f882e3934c60600a237a5823258c2aab' 'test\\unit-tests\\toctree\\dataset\\docc2.rst'\n",
      "'100444' 'a06994994f3d1e77090344e68f89fb7bdab4dac6' 'test\\unit-tests\\toctree\\dataset\\docc3.rst'\n",
      "'100444' 'b9ed987a099d3f1337b9ecdc4ed5ae4bbd34ddeb' 'test\\unit-tests\\toctree\\dataset\\index.rst'\n",
      "'100444' '2c6e21b5cfd33f888cd6af78dd4845904adff2ae' 'test\\unit-tests\\toctree\\dataset-hidden\\index.rst'\n",
      "'100444' 'd95424db3f75207ed1db305a4b04d876ab201bad' 'test\\unit-tests\\toctree\\dataset-hidden\\page.rst'\n",
      "'100444' '122bd2b01bcb35a6147d2ca161ac1ee81dceb8ea' 'test\\unit-tests\\toctree\\dataset-hierarchy\\toctree-doc1.rst'\n",
      "'100444' '1b9f06f3f281020e891d360ca16cd752749c5826' 'test\\unit-tests\\toctree\\dataset-hierarchy\\toctree-doc2.rst'\n",
      "'100444' '14439a54e8c9e82df7e5ef94b2510f66dd91e7ae' 'test\\unit-tests\\toctree\\dataset-hierarchy\\toctree-doc2a.rst'\n",
      "'100444' 'c8c8d414e30ec6587ce5adf985765a41a67ba6ea' 'test\\unit-tests\\toctree\\dataset-hierarchy\\toctree-doc2aa.rst'\n",
      "'100444' '83074746379764d17aeeee09425f7839bfa01796' 'test\\unit-tests\\toctree\\dataset-hierarchy\\toctree-doc2aaa.rst'\n",
      "'100444' '6d077e156738b1ae0cb779106b0b306cd8a8d187' 'test\\unit-tests\\toctree\\dataset-hierarchy\\toctree-doc2b.rst'\n",
      "'100444' 'ce6d99407f0556e800c117a4eed89386994644fd' 'test\\unit-tests\\toctree\\dataset-hierarchy\\toctree-doc2c.rst'\n",
      "'100444' '5cb148b45951e5a59e6751de9e4cdb6f6193b05a' 'test\\unit-tests\\toctree\\dataset-hierarchy\\toctree-doc3.rst'\n",
      "'100444' '5875a369ba3acc9e21aade1646e3e535b89a516b' 'test\\unit-tests\\toctree\\dataset-hierarchy\\toctree.rst'\n",
      "'100444' 'd08d2892918f786fe68009ce5167c73d5b54877c' 'test\\unit-tests\\toctree\\dataset-numbered\\doc1.rst'\n",
      "'100444' 'cc42802056870020ed5977e4ff1f5c478b4dbbdd' 'test\\unit-tests\\toctree\\dataset-numbered\\doc2.rst'\n",
      "'100444' 'fcfc08408ac1fc8479a0214081f102ef3f8901c5' 'test\\unit-tests\\toctree\\dataset-numbered\\index.rst'\n",
      "'100444' 'd08d2892918f786fe68009ce5167c73d5b54877c' 'test\\unit-tests\\toctree\\dataset-numbered-depth\\doc1.rst'\n",
      "'100444' 'cc42802056870020ed5977e4ff1f5c478b4dbbdd' 'test\\unit-tests\\toctree\\dataset-numbered-depth\\doc2.rst'\n",
      "'100444' '84720757684d3445e41025624240bccdc789d998' 'test\\unit-tests\\toctree\\dataset-numbered-depth\\index.rst'\n",
      "'100444' 'ce21f568da46da8b62eee6fb773d4880e8930573' 'test\\unit-tests\\toctree\\expected-cm\\doca.conf'\n",
      "'100444' '3909cbfd54a37c85da8666bcd8bcf73cd2bdb9a2' 'test\\unit-tests\\toctree\\expected-cm\\docb.conf'\n",
      "'100444' 'e2e1c2b2d933c7d0b127bcb7b9e0c7b5b131099b' 'test\\unit-tests\\toctree\\expected-cm\\docc.conf'\n",
      "'100444' '6871a69beea34b7c45dc53e13ed36eee8c9721e7' 'test\\unit-tests\\toctree\\expected-cm\\index.conf'\n",
      "'100444' 'e74e9a2b0e907c5769512f9266e6f3393f37839a' 'test\\unit-tests\\toctree\\expected-def\\doca.conf'\n",
      "'100444' 'a015c006ad2dce3e8459e3234bfa0e0bbecf7346' 'test\\unit-tests\\toctree\\expected-def\\docb.conf'\n",
      "'100444' '12618c43f81937c0c9ea202c2512e001f1a5d7bf' 'test\\unit-tests\\toctree\\expected-def\\docc.conf'\n",
      "'100444' 'e17203c23c8b95eb5babb492b5a9bf8b7eb09441' 'test\\unit-tests\\toctree\\expected-def\\index.conf'\n",
      "'100444' '55401e8af6155b10770b17011c6f4bd6a463be14' 'test\\unit-tests\\toctree\\expected-hidden\\index.conf'\n",
      "'100444' '5ab937d7a38653e4a1a50014b06b479859895787' 'test\\unit-tests\\toctree\\expected-hierarchy\\toctree-doc1.conf'\n",
      "'100444' '7ee6e243eec13011e5b3180627868cd89d70304f' 'test\\unit-tests\\toctree\\expected-hierarchy\\toctree-doc2.conf'\n",
      "'100444' 'a07aa12653c0064401310a3c6e2bbcfc391d50dd' 'test\\unit-tests\\toctree\\expected-hierarchy\\toctree-doc3.conf'\n",
      "'100444' '893033f487ee06159156278677cd22fc5f64fb2b' 'test\\unit-tests\\toctree\\expected-hierarchy\\toctree.conf'\n",
      "'100444' '0c8632f87ac173a6ced785ef610d6c409faedb65' 'test\\unit-tests\\toctree\\expected-numbered-default\\doc1.conf'\n",
      "'100444' '53866244ee899c42a85eaf746b49084c58dec6e6' 'test\\unit-tests\\toctree\\expected-numbered-default\\doc2.conf'\n",
      "'100444' '5aff2c5072fd36811d6a0ac189b0ee203a0de657' 'test\\unit-tests\\toctree\\expected-numbered-default\\index.conf'\n",
      "'100444' '0c8632f87ac173a6ced785ef610d6c409faedb65' 'test\\unit-tests\\toctree\\expected-numbered-depth\\doc1.conf'\n",
      "'100444' '52bf91ecc90610dcc9e90253fbdb2c6c9fece7a9' 'test\\unit-tests\\toctree\\expected-numbered-depth\\doc2.conf'\n",
      "'100444' '778bd295ce94517a21bffc1830afd0a0d37a6410' 'test\\unit-tests\\toctree\\expected-numbered-depth\\index.conf'\n",
      "'100444' 'b588e4bff173e56eae7cf25a16497f07b9095c08' 'test\\unit-tests\\toctree\\expected-numbered-disabled\\doc1.conf'\n",
      "'100444' 'fe736c0081d12d8bacb7bd2469d72aa87a02d167' 'test\\unit-tests\\toctree\\expected-numbered-disabled\\doc2.conf'\n",
      "'100444' '75abb39334ca077edc7b2ef36f0ccac3f5fc362e' 'test\\unit-tests\\toctree\\expected-numbered-disabled\\index.conf'\n",
      "'100444' 'b588e4bff173e56eae7cf25a16497f07b9095c08' 'test\\unit-tests\\toctree\\expected-numbered-page\\doc1.conf'\n",
      "'100444' 'fe736c0081d12d8bacb7bd2469d72aa87a02d167' 'test\\unit-tests\\toctree\\expected-numbered-page\\doc2.conf'\n",
      "'100444' 'd1fe0b733c3f81ddaedf2517d6b5accd8618b102' 'test\\unit-tests\\toctree\\expected-numbered-page\\index.conf'\n",
      "'100444' '0c8632f87ac173a6ced785ef610d6c409faedb65' 'test\\unit-tests\\toctree\\expected-numbered-sec\\doc1.conf'\n",
      "'100444' '53866244ee899c42a85eaf746b49084c58dec6e6' 'test\\unit-tests\\toctree\\expected-numbered-sec\\doc2.conf'\n",
      "'100444' '75abb39334ca077edc7b2ef36f0ccac3f5fc362e' 'test\\unit-tests\\toctree\\expected-numbered-sec\\index.conf'\n",
      "'100444' 'a78a375fa3177a1cb45c6c99d9c2947eb01c536a' 'test\\unit-tests\\toctree\\expected-numbered-suffix\\doc1.conf'\n",
      "'100444' '114e456a56b7fc42be1c64967d812d69fccbcfcc' 'test\\unit-tests\\toctree\\expected-numbered-suffix\\doc2.conf'\n",
      "'100444' 'ee3a9cdb5f6f90d78ebf6ce48eddd78e1b3dd969' 'test\\unit-tests\\toctree\\expected-numbered-suffix\\index.conf'\n",
      "'100444' '533e13a4dbdae45aacfe75e5acc01870f21530f1' 'test\\validation-sets\\auto-ext\\autodocs.rst'\n",
      "'100444' '16305617ab2ded170631e674fa7200a08cfbdee4' 'test\\validation-sets\\auto-ext\\autosummary.rst'\n",
      "'100444' 'b43debb2b498212e825d979c8e1bb90f31dabcc7' 'test\\validation-sets\\auto-ext\\index.rst'\n",
      "'100444' 'e1f22b6d4e759e757f09c042161ae3e6ecab3c9e' 'test\\validation-sets\\auto-ext\\src\\func.py'\n",
      "'100444' '312650b2d1966d29a2def1c516f3fe48fbd12e57' 'test\\validation-sets\\auto-ext\\src\\Hello.py'\n",
      "'100444' 'c20614b3ca912470eb596d1f9863d8247105dc0c' 'test\\validation-sets\\base\\index.rst'\n",
      "'100444' 'dec4b614628d574efe2449fd5d4b51b35c811672' 'test\\validation-sets\\common\\admonitions.rst'\n",
      "'100444' 'f866d4f3cb48024c1af458fb2c82fa2df1c9c0db' 'test\\validation-sets\\common\\bibliographic.rst'\n",
      "'100444' 'efb31e1113d9fa4fc3d66383b6c33be65c08beae' 'test\\validation-sets\\common\\code.rst'\n",
      "'100444' 'cb0e66e04d16d6d3369449b1811f7c30d6e55733' 'test\\validation-sets\\common\\download.rst'\n",
      "'100444' '5acfb73b062f9f670f02fdc83590c866a11c65ab' 'test\\validation-sets\\common\\images.rst'\n",
      "'100444' '65e5877785093a0da37eaa1b4c510a6639570e0a' 'test\\validation-sets\\common\\indentation.rst'\n",
      "'100444' '5280e7482e9d72cad25a002c17730b378f1a7af8' 'test\\validation-sets\\common\\index.rst'\n",
      "'100444' 'aa95192f578a0ce688c1baba5e913ea3ad4ab225' 'test\\validation-sets\\common\\lists.rst'\n",
      "'100444' '229e706a1af8aca69952deaa84fdb28d93529bed' 'test\\validation-sets\\common\\markup.rst'\n",
      "'100444' '4e68df433222e875ad7f8ea163a01723e9dd452b' 'test\\validation-sets\\common\\math.rst'\n",
      "'100444' '9e6c654517a35eba1ec1e305e1103073a3a7ec1c' 'test\\validation-sets\\common\\no-macro.tpl'\n",
      "'100444' 'c66d3e1e5e625801293c828a2f8758c6d2768989' 'test\\validation-sets\\common\\other.rst'\n",
      "'100444' 'be9e374e12cc618d11ee6b9bf0e675ba33152c60' 'test\\validation-sets\\common\\paragraph-level-markup.rst'\n",
      "'100444' 'c0d861ffa7c1a9af4737cd3f879460ace4d1f775' 'test\\validation-sets\\common\\references-ref.rst'\n",
      "'100444' '73cb54436b10adf10ff3af7805d2de438d77fe5a' 'test\\validation-sets\\common\\references.rst'\n",
      "'100444' 'eabba475615ce7f247cc4dd2b8feb12247fb58cd' 'test\\validation-sets\\common\\sections.rst'\n",
      "'100444' '6f82cfb1be81c1d13f4d89e12bcf55aa0e28ccf1' 'test\\validation-sets\\common\\tables.rst'\n",
      "'100444' '34cb0c5f172ef01bc087ba7c63519679200aef41' 'test\\validation-sets\\common\\unicode.rst'\n",
      "'100444' '76d34276c8769c693527ae54be9ff5af4e5b81b5' 'test\\validation-sets\\common\\verification-of-content.rst'\n",
      "'100444' 'f6f8648263f29431465f3295fb45fc0a156e16b7' 'test\\validation-sets\\common\\assets\\.gitattributes'\n",
      "'100444' '5133a65fe321c794e6f5dc76a3e740338882c516' 'test\\validation-sets\\common\\assets\\confluence.png'\n",
      "'100444' 'cd851e8548c9b90381ce1e7acd4f4bf75d8e8753' 'test\\validation-sets\\common\\assets\\example.pdf'\n",
      "'100444' 'c7bb3c17f224613453645468c3aab4cb726f09e1' 'test\\validation-sets\\common\\assets\\example.py'\n",
      "'100444' 'ea6ff545a246caa64074ba809bbc86fcb8589071' 'test\\validation-sets\\common\\assets\\github.png'\n",
      "'100444' '0a103cd3ee3b5230a901ddfca3a35b48fe2c44be' 'test\\validation-sets\\common\\assets\\sphinx.png'\n",
      "'100444' 'e723bfd2803c856f484cccd2d7a73301295a65be' 'test\\validation-sets\\header-footer\\another-page.rst'\n",
      "'100444' 'dd997b45a4af8be989f989c93243edfb144fad4d' 'test\\validation-sets\\header-footer\\footer.tpl'\n",
      "'100444' 'f9a38dca9ba7c020db5fed7bc1470dca97465f9a' 'test\\validation-sets\\header-footer\\header.tpl'\n",
      "'100444' '46ef45c71bfeaa818c8038046677f997a19e0a23' 'test\\validation-sets\\header-footer\\index.rst'\n",
      "'100444' 'b93383f7a3939b25c7c06cc3e3d03bc5eecfa7a1' 'test\\validation-sets\\hierarchy\\hierarchy-a.rst'\n",
      "'100444' '1e42bc75e3959e8bd4c8b9aca3243803ea98dcaf' 'test\\validation-sets\\hierarchy\\hierarchy-aa.rst'\n",
      "'100444' '87594ecd6949416b74ba418b6958c8fb9330ffad' 'test\\validation-sets\\hierarchy\\hierarchy-ab.rst'\n",
      "'100444' '269cae484acfbb1ebadabcd3d1fd42710855e6e4' 'test\\validation-sets\\hierarchy\\hierarchy-ac.rst'\n",
      "'100444' 'c9bc14ecf7cb798bc375799fbd2cc0d08c8713a2' 'test\\validation-sets\\hierarchy\\hierarchy-b.rst'\n",
      "'100444' '00118777afbe9a2013f2c2ecc55f4d6ebf34fc23' 'test\\validation-sets\\hierarchy\\hierarchy-ba.rst'\n",
      "'100444' 'bdcae81da40b3b69b12271dcb569e9dc1ac315ae' 'test\\validation-sets\\hierarchy\\hierarchy-baa.rst'\n",
      "'100444' '0ed2576bba6172d7a3d8a224f387e868f71b0a55' 'test\\validation-sets\\hierarchy\\hierarchy-baaa.rst'\n",
      "'100444' 'c509a6a2962b00618f1b76fe1bb8afd15f022ebb' 'test\\validation-sets\\hierarchy\\hierarchy-baaaa.rst'\n",
      "'100444' '7c680a24252cd67ec385cfb4c8b9f0d66b74868e' 'test\\validation-sets\\hierarchy\\hierarchy-c.rst'\n",
      "'100444' '08a6033cbb98471731211935925d03338ea814d7' 'test\\validation-sets\\hierarchy\\hierarchy-ca.rst'\n",
      "'100444' 'c92a16a37b6006760ae1e836838421c001ec0cda' 'test\\validation-sets\\hierarchy\\hierarchy-caa.rst'\n",
      "'100444' '503f84f17a505ae47e6d1ed2bdc4e4739bdecba3' 'test\\validation-sets\\hierarchy\\hierarchy-cab.rst'\n",
      "'100444' 'f09a1dc20925cedfddd75cbc2d59878e5ec6a754' 'test\\validation-sets\\hierarchy\\hierarchy-cb.rst'\n",
      "'100444' '4b4db22f61e1ec7ac082bfe2b629dc94dab9a61c' 'test\\validation-sets\\hierarchy\\hierarchy-cba.rst'\n",
      "'100444' 'be8379614033e4889cd9922320175d8d1cebbb9f' 'test\\validation-sets\\hierarchy\\hierarchy-d.rst'\n",
      "'100444' 'c5f74e6b5c9381388ae2cbec18de0a18a2ea4895' 'test\\validation-sets\\hierarchy\\index.rst'\n"
     ]
    }
   ],
   "source": [
    "with read_object(repo, sha) as obj:\n",
    "    print(\"TYPE: '%s'\" % obj.type)\n",
    "    print('LENGTH: %d bytes' % obj.length)\n",
    "    print('DATA:\\n%s' % ''.join([chunk.decode() for chunk in obj]))"
   ]
  },
  {
   "cell_type": "code",
   "execution_count": 13,
   "metadata": {},
   "outputs": [
    {
     "data": {
      "text/plain": [
       "'100666'"
      ]
     },
     "execution_count": 13,
     "metadata": {},
     "output_type": "execute_result"
    }
   ],
   "source": [
    "oct(s.st_mode)[2:]"
   ]
  },
  {
   "cell_type": "code",
   "execution_count": 15,
   "metadata": {},
   "outputs": [
    {
     "data": {
      "text/plain": [
       "33206"
      ]
     },
     "execution_count": 15,
     "metadata": {},
     "output_type": "execute_result"
    }
   ],
   "source": [
    "int('100666', 8)"
   ]
  },
  {
   "cell_type": "code",
   "execution_count": 7,
   "metadata": {},
   "outputs": [
    {
     "ename": "ModuleNotFoundError",
     "evalue": "No module named 'pyre'",
     "output_type": "error",
     "traceback": [
      "\u001b[1;31m----------------------------------------\u001b[0m",
      "\u001b[1;31mModuleNotFoundError\u001b[0mTraceback (most recent call last)",
      "\u001b[1;32m<ipython-input-7-2dadcd6c46e2>\u001b[0m in \u001b[0;36m<module>\u001b[1;34m\u001b[0m\n\u001b[1;32m----> 1\u001b[1;33m \u001b[1;32mimport\u001b[0m \u001b[0mpyre\u001b[0m\u001b[1;33m\u001b[0m\u001b[1;33m\u001b[0m\u001b[0m\n\u001b[0m",
      "\u001b[1;31mModuleNotFoundError\u001b[0m: No module named 'pyre'"
     ]
    }
   ],
   "source": [
    "import pyre"
   ]
  },
  {
   "cell_type": "code",
   "execution_count": null,
   "metadata": {},
   "outputs": [],
   "source": []
  },
  {
   "cell_type": "code",
   "execution_count": null,
   "metadata": {},
   "outputs": [],
   "source": []
  }
 ],
 "metadata": {
  "kernelspec": {
   "display_name": "Python 3",
   "language": "python",
   "name": "python3"
  },
  "language_info": {
   "codemirror_mode": {
    "name": "ipython",
    "version": 3
   },
   "file_extension": ".py",
   "mimetype": "text/x-python",
   "name": "python",
   "nbconvert_exporter": "python",
   "pygments_lexer": "ipython3",
   "version": "3.7.4"
  }
 },
 "nbformat": 4,
 "nbformat_minor": 4
}
